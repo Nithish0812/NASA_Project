{
 "cells": [
  {
   "cell_type": "code",
   "execution_count": null,
   "id": "5381a078-5530-4392-b20c-084f1cb7288b",
   "metadata": {},
   "outputs": [],
   "source": [
    "!pip install requests"
   ]
  },
  {
   "cell_type": "code",
   "execution_count": null,
   "id": "db1e891e-ab85-49a5-86c6-a201c2e6aa29",
   "metadata": {},
   "outputs": [],
   "source": [
    "API_KEY = \"GvvamM7hpkUMhCdISXHhjL1Lv0q1psbcKuJF02vP\"\n",
    "\n",
    "import requests\n",
    "\n",
    "url = f\"https://api.nasa.gov/neo/rest/v1/feed?start_date=2024-01-01&end_date=2024-01-08&api_key={API_KEY}\"\n",
    "\n",
    "response = requests.get(url)"
   ]
  },
  {
   "cell_type": "code",
   "execution_count": null,
   "id": "266ae611-3551-412e-92a8-7b1adccc5894",
   "metadata": {},
   "outputs": [],
   "source": [
    "response"
   ]
  },
  {
   "cell_type": "code",
   "execution_count": null,
   "id": "b1bd588c-2de3-404e-bf33-4e0a8956bc46",
   "metadata": {},
   "outputs": [],
   "source": [
    "data = response.json()"
   ]
  },
  {
   "cell_type": "code",
   "execution_count": null,
   "id": "dad4d494-dc16-42fa-a885-b83945867aa4",
   "metadata": {},
   "outputs": [],
   "source": [
    "data"
   ]
  },
  {
   "cell_type": "code",
   "execution_count": null,
   "id": "5439112c-bd61-4328-9266-703807b2e5e5",
   "metadata": {},
   "outputs": [],
   "source": [
    "data.keys()"
   ]
  },
  {
   "cell_type": "code",
   "execution_count": null,
   "id": "0b1b715c-da55-49da-bde3-377275708d0e",
   "metadata": {},
   "outputs": [],
   "source": [
    "data['links']"
   ]
  },
  {
   "cell_type": "code",
   "execution_count": null,
   "id": "3d395650-fdfe-4d9b-84c2-e0d27f419914",
   "metadata": {},
   "outputs": [],
   "source": [
    "data['element_count']"
   ]
  },
  {
   "cell_type": "code",
   "execution_count": null,
   "id": "a6301892-37eb-4b13-8024-97a0ec477e5e",
   "metadata": {},
   "outputs": [],
   "source": [
    "data['near_earth_objects']"
   ]
  },
  {
   "cell_type": "code",
   "execution_count": null,
   "id": "fefc1971-bd13-4f30-8045-ca2443cc3f74",
   "metadata": {},
   "outputs": [],
   "source": [
    "data['near_earth_objects'].keys()"
   ]
  },
  {
   "cell_type": "code",
   "execution_count": null,
   "id": "b0376096-f639-4e64-8da4-dd1fc216d6c4",
   "metadata": {},
   "outputs": [],
   "source": [
    "data['links']['next']"
   ]
  },
  {
   "cell_type": "code",
   "execution_count": null,
   "id": "a7015cc9-562d-4e5f-b89c-ba922641a9a1",
   "metadata": {},
   "outputs": [],
   "source": [
    "data['near_earth_objects']['2024-01-01'][0]['id']"
   ]
  },
  {
   "cell_type": "code",
   "execution_count": null,
   "id": "b65d2445-30ed-4222-9895-8390c84d7248",
   "metadata": {},
   "outputs": [],
   "source": [
    "asteroids_data = []\n",
    "target = 200\n",
    "\n",
    "url = f\"https://api.nasa.gov/neo/rest/v1/feed?start_date=2024-01-01&end_date=2024-01-08&api_key={API_KEY}\"\n",
    "\n",
    "response = requests.get(url)\n",
    "data = response.json()\n",
    "details = data['near_earth_objects']"
   ]
  },
  {
   "cell_type": "code",
   "execution_count": null,
   "id": "4d3b0274-893d-4341-bf36-612de6e31ad8",
   "metadata": {},
   "outputs": [],
   "source": [
    "details"
   ]
  },
  {
   "cell_type": "code",
   "execution_count": null,
   "id": "25c53ec0-a512-426d-bc9f-d6563f522460",
   "metadata": {},
   "outputs": [],
   "source": [
    "asteroids_data = []\n",
    "target = 200\n",
    "\n",
    "url = f\"https://api.nasa.gov/neo/rest/v1/feed?start_date=2024-01-01&end_date=2024-01-08&api_key={API_KEY}\"\n",
    "\n",
    "response = requests.get(url)\n",
    "data = response.json()\n",
    "details = data['near_earth_objects']\n",
    "\n",
    "while len(asteroids_data) < target:\n",
    "    for date,ast_details in details.items():\n",
    "        for ast in ast_details:\n",
    "            asteroids_data.append(dict(\n",
    "                id= int(ast['id']),\n",
    "                internal_id = int(ast['neo_reference_id']),\n",
    "                name = ast['name'],\n",
    "                magnitude = ast['absolute_magnitude_h'],\n",
    "                dia_min = ast ['estimated_diameter']['kilometers']['estimated_diameter_min'],\n",
    "                dia_max =  ast ['estimated_diameter']['kilometers']['estimated_diameter_max'],\n",
    "                hazardous = ast ['is_potentially_hazardous_asteroid'],\n",
    "                velocity = float(ast ['close_approach_data'][0]['relative_velocity']['kilometers_per_hour']),\n",
    "                astronomical = float (ast ['close_approach_data'][0]['miss_distance']['astronomical']),\n",
    "                miss_km = float (ast ['close_approach_data'][0]['miss_distance']['kilometers']),\n",
    "                miss_lunar = float (ast ['close_approach_data'][0]['miss_distance']['lunar']),\n",
    "                orbiting = ast ['close_approach_data'][0]['orbiting_body'],\n",
    "                close_approach = ast ['close_approach_data'][0]['close_approach_date']\n",
    "                \n",
    "            ))\n",
    "                \n",
    "        \n",
    "\n",
    "        \n",
    "    \n",
    "      "
   ]
  },
  {
   "cell_type": "code",
   "execution_count": null,
   "id": "4e3b9806-a533-44b7-8825-f228844388c3",
   "metadata": {
    "scrolled": true
   },
   "outputs": [],
   "source": [
    "asteroids_data"
   ]
  },
  {
   "cell_type": "code",
   "execution_count": null,
   "id": "65e00608-2f75-45d4-99ed-d677a0df89a8",
   "metadata": {},
   "outputs": [],
   "source": [
    "len(asteroids_data)"
   ]
  },
  {
   "cell_type": "code",
   "execution_count": null,
   "id": "9d38bc48-2324-4737-a77c-35ade4453a3d",
   "metadata": {},
   "outputs": [],
   "source": []
  },
  {
   "cell_type": "code",
   "execution_count": null,
   "id": "a87f68fb-69ea-4c07-95f3-16d016de72bc",
   "metadata": {},
   "outputs": [],
   "source": [
    "asteroids_data = []\n",
    "target = 200\n",
    "\n",
    "url = f\"https://api.nasa.gov/neo/rest/v1/feed?start_date=2024-01-01&end_date=2024-01-08&api_key={API_KEY}\"\n",
    "\n",
    "response = requests.get(url)\n",
    "data = response.json()\n",
    "details = data['near_earth_objects']\n",
    "\n",
    "while len(asteroids_data) < target:\n",
    "    for date,ast_details in details.items():\n",
    "        for ast in ast_details:\n",
    "            asteroids_data.append(dict(\n",
    "                id= int(ast['id']),\n",
    "                internal_id = int(ast['neo_reference_id']),\n",
    "                name = ast['name']\n",
    "            ))"
   ]
  },
  {
   "cell_type": "code",
   "execution_count": null,
   "id": "58631ec5-d2f8-4f7c-bf0f-a0686e6c3ce9",
   "metadata": {},
   "outputs": [],
   "source": [
    "velocity = float(ast ['close_approach_data'][0]['relative_velocity']['kilometers_per_hour'])"
   ]
  },
  {
   "cell_type": "code",
   "execution_count": null,
   "id": "6f7aa342-49f7-4567-83eb-dff1dd7ff597",
   "metadata": {},
   "outputs": [],
   "source": [
    "type(velocity) "
   ]
  },
  {
   "cell_type": "code",
   "execution_count": null,
   "id": "6c5a878d-f68b-4043-ac3a-0f874d74848f",
   "metadata": {},
   "outputs": [],
   "source": [
    "astronomical"
   ]
  },
  {
   "cell_type": "code",
   "execution_count": null,
   "id": "de9a68c0-86bb-4dda-a45d-e8dc361ce70e",
   "metadata": {},
   "outputs": [],
   "source": [
    "hazardous = ast ['is_potentially_hazardous_asteroid']"
   ]
  },
  {
   "cell_type": "code",
   "execution_count": null,
   "id": "6b268999-89e1-4612-80f4-47a72abdf1dd",
   "metadata": {},
   "outputs": [],
   "source": [
    " astronomical = ast ['close_approach_data'] [0]['close_approach_date']"
   ]
  },
  {
   "cell_type": "code",
   "execution_count": null,
   "id": "abc20a09-d182-400f-ae97-4a4aa5f8ec6a",
   "metadata": {},
   "outputs": [],
   "source": [
    "velocity = ast ['close_approach_data'][0]['relative_velocity']['kilometers_per_hour']"
   ]
  },
  {
   "cell_type": "code",
   "execution_count": null,
   "id": "953bb798-abe7-4e09-b710-37ab4eda515d",
   "metadata": {},
   "outputs": [],
   "source": [
    "velocity"
   ]
  },
  {
   "cell_type": "code",
   "execution_count": null,
   "id": "25655a2b-ad92-4cf7-8829-f520f9b24110",
   "metadata": {},
   "outputs": [],
   "source": [
    "orbiting = ast ['close_approach_data'][0]['orbiting_body']"
   ]
  },
  {
   "cell_type": "code",
   "execution_count": null,
   "id": "1ee405bb-fb78-42c9-8372-c1ca49304473",
   "metadata": {},
   "outputs": [],
   "source": [
    "orbiting"
   ]
  },
  {
   "cell_type": "code",
   "execution_count": null,
   "id": "75f618da-0d9d-4dd1-b9f8-84e392d6a27f",
   "metadata": {},
   "outputs": [],
   "source": [
    "miss_lunar = ast ['close_approach_data'][0]['miss_distance']['lunar']"
   ]
  },
  {
   "cell_type": "code",
   "execution_count": null,
   "id": "d0d1d1d1-07cf-4863-842d-941b389acf0f",
   "metadata": {},
   "outputs": [],
   "source": [
    "miss_lunar"
   ]
  },
  {
   "cell_type": "code",
   "execution_count": null,
   "id": "f4fcbbb2-32e0-4123-93d1-d116afc36a5e",
   "metadata": {},
   "outputs": [],
   "source": [
    "asteroids_data "
   ]
  },
  {
   "cell_type": "code",
   "execution_count": null,
   "id": "0df0360e-75e6-450c-a88a-61867d8b2f4f",
   "metadata": {},
   "outputs": [],
   "source": [
    "len(asteroids_data) "
   ]
  },
  {
   "cell_type": "code",
   "execution_count": null,
   "id": "ff3ebecb-5ddd-466b-8440-a334ec0ec0d0",
   "metadata": {},
   "outputs": [],
   "source": [
    "from datetime import datetime\n",
    "\n",
    "date_string = \"2024-07-15\"\n",
    "date_object = datetime.strptime(date_string, \"%Y-%m-%d\")"
   ]
  },
  {
   "cell_type": "code",
   "execution_count": null,
   "id": "9854c628-5730-4e5a-8516-a44d1142113c",
   "metadata": {},
   "outputs": [],
   "source": []
  },
  {
   "cell_type": "code",
   "execution_count": null,
   "id": "c5037d80-1a26-4b9a-8f3f-2e96e711fa86",
   "metadata": {},
   "outputs": [],
   "source": [
    "asteroids_data = []\n",
    "target = 10000\n",
    "\n",
    "url = f\"https://api.nasa.gov/neo/rest/v1/feed?start_date=2024-01-01&end_date=2024-01-08&api_key={API_KEY}\"\n",
    "\n",
    "\n",
    "while len(asteroids_data) < target:\n",
    "    \n",
    "    response = requests.get(url)\n",
    "    data = response.json()\n",
    "    details = data['near_earth_objects']\n",
    "    for date,ast_details in details.items():\n",
    "        for ast in ast_details:\n",
    "            asteroids_data.append(dict(\n",
    "                id= int(ast['id']),\n",
    "                neo_reference_id = int(ast['neo_reference_id']),\n",
    "                name = ast['name'],\n",
    "                absolute_magnitude_h = ast['absolute_magnitude_h'],\n",
    "                estimated_diameter_min = ast ['estimated_diameter']['kilometers']['estimated_diameter_min'],\n",
    "                estimated_diameter_max =  ast ['estimated_diameter']['kilometers']['estimated_diameter_max'],\n",
    "                is_potentially_hazardous_asteroid = ast ['is_potentially_hazardous_asteroid'],\n",
    "                relative_velocity_kmph = float(ast ['close_approach_data'][0]['relative_velocity']['kilometers_per_hour']),\n",
    "                astronomical_AU = float (ast ['close_approach_data'][0]['miss_distance']['astronomical']),\n",
    "                miss_distance_km = float (ast ['close_approach_data'][0]['miss_distance']['kilometers']),\n",
    "                miss_distance_lunar = float (ast ['close_approach_data'][0]['miss_distance']['lunar']),\n",
    "                orbiting_body = ast ['close_approach_data'][0]['orbiting_body'],\n",
    "                close_approach_date = ast ['close_approach_data'][0]['close_approach_date']\n",
    "                \n",
    "            ))\n",
    "            if len(asteroids_data) == target:\n",
    "                break\n",
    "        if len(asteroids_data) == target:\n",
    "            break\n",
    "    url = data['links']['next']\n",
    "print (f\"Total records collected: {len(asteroids_data)}\")\n",
    "    "
   ]
  },
  {
   "cell_type": "code",
   "execution_count": null,
   "id": "03806910-4aaf-4f6d-80ac-76bcf8232560",
   "metadata": {},
   "outputs": [],
   "source": [
    "len(asteroids_data)"
   ]
  },
  {
   "cell_type": "code",
   "execution_count": null,
   "id": "a51cdc1c-6bab-4bc4-a9f1-c801548e09f0",
   "metadata": {},
   "outputs": [],
   "source": [
    "asteroids_data"
   ]
  },
  {
   "cell_type": "code",
   "execution_count": null,
   "id": "755551f4-1a5c-430b-b4a8-74ede93f8683",
   "metadata": {},
   "outputs": [],
   "source": [
    "asteroids_data[0]"
   ]
  },
  {
   "cell_type": "code",
   "execution_count": null,
   "id": "ac7100b6-a1bf-4649-80d4-743f6c74393c",
   "metadata": {},
   "outputs": [],
   "source": [
    "!pip install pymysql"
   ]
  },
  {
   "cell_type": "code",
   "execution_count": null,
   "id": "f88cdc9f-5b3d-4363-91bb-a966496b2259",
   "metadata": {},
   "outputs": [],
   "source": []
  },
  {
   "cell_type": "code",
   "execution_count": null,
   "id": "624a6ae4-cd20-416c-80ee-8ff65197fafd",
   "metadata": {},
   "outputs": [],
   "source": [
    "import pymysql\n",
    "\n",
    "connection = pymysql.connect(\n",
    "    host = 'localhost',\n",
    "    user = 'root',\n",
    "    password = 'Nithish@9791',\n",
    "    database = 'nasadb'\n",
    ")\n",
    "cursor = connection.cursor()"
   ]
  },
  {
   "cell_type": "code",
   "execution_count": null,
   "id": "e7896f49-9152-40bc-a18b-51360cb91bdc",
   "metadata": {},
   "outputs": [],
   "source": [
    "asteroids=\"\"\"\n",
    "create table if not exists asteroids(\n",
    "  id int,\n",
    "  name text,\n",
    "  absolute_magnitude_h float,\n",
    "  estimated_diameter_min float,\n",
    "  estimated_diameter_max float,\n",
    "  is_potentially_hazardous_asteroid Boolean\n",
    ");\n",
    "\"\"\""
   ]
  },
  {
   "cell_type": "code",
   "execution_count": null,
   "id": "95d90e65-a028-4d44-8602-a3edd01a8350",
   "metadata": {},
   "outputs": [],
   "source": [
    "cursor.execute(asteroids)\n",
    "connection.commit()\n",
    "\n",
    "print(\"Asteroids table created successfully\")"
   ]
  },
  {
   "cell_type": "code",
   "execution_count": null,
   "id": "d8a5df1c-bd38-415c-a4e7-83383c1942b3",
   "metadata": {},
   "outputs": [],
   "source": [
    "import pymysql\n",
    "\n",
    "connection = pymysql.connect(\n",
    "    host = 'localhost',\n",
    "    user = 'root',\n",
    "    password = 'Nithish@9791',\n",
    "    database = 'nasadb'\n",
    ")\n",
    "cursor1 = connection.cursor()"
   ]
  },
  {
   "cell_type": "code",
   "execution_count": null,
   "id": "65cd4dc8-5103-4844-8558-4b4f6fa5bd33",
   "metadata": {},
   "outputs": [],
   "source": [
    "close_approach=\"\"\"\n",
    "create table if not exists close_approach(\n",
    "  neo_reference_id int,\n",
    "  close_approach_date date,\n",
    "  relative_velocity_kmph float,\n",
    "  astronomical_AU float,\n",
    "  miss_distance_km float,\n",
    "  orbiting_body varchar(50),\n",
    "  miss_distance_lunar float\n",
    ")\n",
    "\"\"\""
   ]
  },
  {
   "cell_type": "code",
   "execution_count": null,
   "id": "a6ee0675-f069-4b8c-b7e4-630fdc6d71cf",
   "metadata": {},
   "outputs": [],
   "source": [
    "cursor1.execute(close_approach)\n",
    "connection.commit()\n",
    "\n",
    "print(\"close_approach table created successfully\")"
   ]
  },
  {
   "cell_type": "code",
   "execution_count": null,
   "id": "d6805343-9bcd-46e8-a115-674a57862e55",
   "metadata": {},
   "outputs": [],
   "source": [
    "insert_query1 = \"\"\"\n",
    "INSERT INTO close_approach (\n",
    "    neo_reference_id,\n",
    "    close_approach_date,\n",
    "    relative_velocity_kmph,\n",
    "    astronomical_AU,\n",
    "    miss_distance_km,\n",
    "    miss_distance_lunar,\n",
    "    orbiting_body\n",
    ") VALUES (%s, %s, %s, %s, %s, %s, %s)\n",
    "\"\"\"\n",
    "\n"
   ]
  },
  {
   "cell_type": "code",
   "execution_count": null,
   "id": "bf25b179-a1cb-40fc-aa8e-0c83d2b547ce",
   "metadata": {},
   "outputs": [],
   "source": [
    "for item in asteroids_data:\n",
    "    cursor1.execute(insert_query1, (\n",
    "        item[\"neo_reference_id\"],\n",
    "        item[\"close_approach_date\"],\n",
    "        \n",
    "float (item[\"relative_velocity_kmph\"]),\n",
    "        float (item[\"astronomical_AU\"]),\n",
    "        float (item[\"miss_distance_km\"]),\n",
    "        float (item[\"miss_distance_lunar\"]),\n",
    "        item[\"orbiting_body\"]\n",
    "    ))\n",
    "\n",
    "connection.commit()\n",
    "print(\"close approach Data inserted successfully.\")"
   ]
  },
  {
   "cell_type": "code",
   "execution_count": null,
   "id": "e6afa446-e603-46b1-9440-9d7c910e2c43",
   "metadata": {},
   "outputs": [],
   "source": [
    "cursor1.execute(\"Drop table if exists close_approach\")\n",
    "connection.commit()"
   ]
  },
  {
   "cell_type": "code",
   "execution_count": null,
   "id": "e395590c-a2e8-4868-8db2-796bc8e8b041",
   "metadata": {},
   "outputs": [],
   "source": [
    "close_approach"
   ]
  },
  {
   "cell_type": "code",
   "execution_count": null,
   "id": "feebfa5c-14ba-4413-8d1b-080ce12ff40b",
   "metadata": {},
   "outputs": [],
   "source": [
    "asteroids"
   ]
  },
  {
   "cell_type": "code",
   "execution_count": null,
   "id": "8da34385-cc96-4941-92bf-93df3d8001ce",
   "metadata": {},
   "outputs": [],
   "source": [
    "insert_query = \"\"\"\n",
    "INSERT INTO asteroids (\n",
    "    id,\n",
    "    name,\n",
    "    absolute_magnitude_h,\n",
    "    estimated_diameter_min,\n",
    "    estimated_diameter_max,\n",
    "    is_potentially_hazardous_asteroid \n",
    ") VALUES (%s, %s, %s, %s, %s, %s)\n",
    "\"\"\""
   ]
  },
  {
   "cell_type": "code",
   "execution_count": null,
   "id": "4bef9b2b-ed8b-452e-a6b8-5d0f6cfe7d46",
   "metadata": {},
   "outputs": [],
   "source": [
    "for item in asteroids_data:\n",
    "    cursor.execute(insert_query, (\n",
    "        item[\"id\"],\n",
    "        item[\"name\"],\n",
    "        \n",
    "float (item[\"absolute_magnitude_h\"]),\n",
    "float (item[\"estimated_diameter_min\"]),\n",
    "float (item[\"estimated_diameter_max\"]),\n",
    "item[\"is_potentially_hazardous_asteroid\"]\n",
    "    ))\n",
    "\n",
    "connection.commit()\n",
    "print(\"Asteroids Data inserted successfully.\")"
   ]
  },
  {
   "cell_type": "code",
   "execution_count": null,
   "id": "4874236a-be99-48b4-92b8-639177b483db",
   "metadata": {},
   "outputs": [],
   "source": []
  }
 ],
 "metadata": {
  "kernelspec": {
   "display_name": "Python [conda env:base] *",
   "language": "python",
   "name": "conda-base-py"
  },
  "language_info": {
   "codemirror_mode": {
    "name": "ipython",
    "version": 3
   },
   "file_extension": ".py",
   "mimetype": "text/x-python",
   "name": "python",
   "nbconvert_exporter": "python",
   "pygments_lexer": "ipython3",
   "version": "3.12.7"
  }
 },
 "nbformat": 4,
 "nbformat_minor": 5
}
